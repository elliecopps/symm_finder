{
 "cells": [
  {
   "cell_type": "code",
   "execution_count": 1,
   "metadata": {},
   "outputs": [],
   "source": [
    "import tfim\n",
    "import numpy as np\n",
    "from itertools import groupby\n",
    "import symmetry_types"
   ]
  },
  {
   "cell_type": "code",
   "execution_count": 2,
   "metadata": {},
   "outputs": [
    {
     "name": "stderr",
     "output_type": "stream",
     "text": [
      "100% |########################################################################|\n"
     ]
    }
   ],
   "source": [
    "PBC = True\n",
    "L = [9]\n",
    "\n",
    "lattice = tfim.Lattice(L, PBC)\n",
    "N = lattice.N\n",
    "J = 1\n",
    "\n",
    "seed = 7\n",
    "Jij = tfim.Jij_instance(N,J,dist=\"bimodal\",seed=seed,even=True)\n",
    "\n",
    "basis = tfim.IsingBasis(lattice)\n",
    "\n",
    "Energies = -1 * (tfim.JZZ_SK_ME(basis,Jij))"
   ]
  },
  {
   "cell_type": "code",
   "execution_count": 3,
   "metadata": {},
   "outputs": [],
   "source": [
    "def grouped_configs(basis, Jij):\n",
    "    '''function returns arrays of integers that have the same energy when converted to \n",
    "    spin configurations. excludes integers that are spin inversions of each other'''\n",
    "    Energies = -1 * (tfim.JZZ_SK_ME(basis,Jij))\n",
    "    sorted_indices = np.argsort(Energies)\n",
    "    sorted_energies = Energies[sorted_indices]\n",
    "    \n",
    "    split_list = []                                #Breaks up energy list by value\n",
    "    for key, group in groupby(sorted_energies):\n",
    "        split_list.append(list(group))\n",
    "                                            \n",
    "    num_list = []\n",
    "    for x in range(0, len(split_list)):           \n",
    "        index = 0\n",
    "        for y in range(0, x+1):\n",
    "            index = index + len(split_list[y]) \n",
    "        start = (index - len(split_list[x]))\n",
    "        entry = sorted_indices[start:index]\n",
    "        entry.sort()\n",
    "        #entry = entry[:len(entry)/2]\n",
    "        num_list.append(entry)\n",
    "        #num_list is a list of lists that contain indices with the same energy, excluding spin inversions\n",
    "    return num_list"
   ]
  },
  {
   "cell_type": "code",
   "execution_count": 4,
   "metadata": {},
   "outputs": [
    {
     "name": "stderr",
     "output_type": "stream",
     "text": [
      "100% |########################################################################|\n"
     ]
    },
    {
     "name": "stdout",
     "output_type": "stream",
     "text": [
      "[array([147, 154, 155, 179, 183, 210, 211, 215, 218, 247, 264, 293, 296,\n",
      "       300, 301, 328, 332, 356, 357, 364]), array([  8,  12,  18,  19,  23,  24,  26,  36,  37,  44,  53,  55,  68,\n",
      "        70,  76,  82,  86,  87, 100, 146, 151, 152, 181, 187, 202, 214,\n",
      "       219, 231, 243, 268, 280, 292, 297, 309, 324, 330, 359, 360, 365,\n",
      "       411, 424, 425, 429, 435, 441, 443, 456, 458, 467, 474, 475, 485,\n",
      "       487, 488, 492, 493, 499, 503]), array([  4,  10,  16,  20,  21,  22,  27,  28,  39,  40,  45,  51,  52,\n",
      "        66,  71,  72,  74,  78,  83,  84,  90, 101, 102, 103, 108, 119,\n",
      "       136, 138, 153, 159, 165, 167, 168, 172, 173, 177, 178, 184, 185,\n",
      "       186, 189, 191, 194, 198, 199, 200, 204, 206, 216, 222, 223, 228,\n",
      "       229, 230, 236, 242, 245, 246, 265, 266, 269, 275, 281, 282, 283,\n",
      "       288, 289, 295, 305, 307, 311, 312, 313, 317, 320, 322, 325, 326,\n",
      "       327, 333, 334, 338, 339, 343, 344, 346, 352, 358, 373, 375, 392,\n",
      "       403, 408, 409, 410, 421, 427, 428, 433, 437, 439, 440, 445, 459,\n",
      "       460, 466, 471, 472, 483, 484, 489, 490, 491, 495, 501, 507]), array([  0,   2,   5,   6,   7,  13,  14,  17,  25,  29,  30,  31,  32,\n",
      "        38,  48,  49,  50,  54,  56,  60,  61,  64,  69,  80,  85,  88,\n",
      "        92,  94, 116, 117, 118, 139, 140, 144, 145, 149, 150, 156, 157,\n",
      "       158, 163, 164, 169, 170, 171, 175, 176, 180, 182, 188, 195, 196,\n",
      "       203, 207, 208, 212, 213, 220, 226, 227, 232, 234, 237, 238, 239,\n",
      "       244, 250, 251, 255, 256, 260, 261, 267, 272, 273, 274, 277, 279,\n",
      "       284, 285, 291, 298, 299, 303, 304, 308, 315, 316, 323, 329, 331,\n",
      "       335, 336, 340, 341, 342, 347, 348, 353, 354, 355, 361, 362, 366,\n",
      "       367, 371, 372, 393, 394, 395, 417, 419, 423, 426, 431, 442, 447,\n",
      "       450, 451, 455, 457, 461, 462, 463, 473, 479, 480, 481, 482, 486,\n",
      "       494, 497, 498, 504, 505, 506, 509, 511]), array([  3,   9,  11,  15,  33,  34,  35,  41,  42,  46,  47,  57,  58,\n",
      "        59,  63,  67,  77,  79,  91,  95,  96,  98, 104, 109, 110, 114,\n",
      "       115, 130, 131, 135, 137, 141, 142, 143, 148, 160, 161, 162, 166,\n",
      "       174, 190, 192, 197, 205, 209, 217, 221, 224, 235, 240, 241, 248,\n",
      "       252, 253, 254, 257, 258, 259, 263, 270, 271, 276, 287, 290, 294,\n",
      "       302, 306, 314, 319, 321, 337, 345, 349, 350, 351, 363, 368, 369,\n",
      "       370, 374, 376, 380, 381, 396, 397, 401, 402, 407, 413, 415, 416,\n",
      "       420, 432, 434, 444, 448, 452, 453, 454, 464, 465, 469, 470, 476,\n",
      "       477, 478, 496, 500, 502, 508]), array([  1,  43,  62,  75,  81,  93,  99, 106, 111, 112, 124, 128, 132,\n",
      "       133, 134, 201, 225, 233, 249, 262, 278, 286, 310, 377, 378, 379,\n",
      "       383, 387, 399, 400, 405, 412, 418, 430, 436, 449, 468, 510]), array([ 65,  73,  89,  97, 113, 120, 122, 125, 126, 127, 129, 193, 318,\n",
      "       382, 384, 385, 386, 389, 391, 398, 414, 422, 438, 446]), array([105, 107, 123, 388, 404, 406]), array([121, 390])]\n"
     ]
    }
   ],
   "source": [
    "grouped_configs = grouped_configs(basis,Jij)"
   ]
  },
  {
   "cell_type": "code",
   "execution_count": 5,
   "metadata": {},
   "outputs": [],
   "source": [
    "def list_transformations(grouped_configs, max_energy, N):\n",
    "    \"\"\"function takes in grouped_configs, which is a list of configuration integers grouped by energy level, and\n",
    "    returns a list of all transformations that occur in each energy level \n",
    "    \n",
    "    when only finding transformations for a few energy levels, the ground state corresponds to max_energy=1, using\n",
    "    'all' will go through all energy levels\"\"\"\n",
    "    \n",
    "    transformation_list = []\n",
    "    if max_energy == 0:\n",
    "        max_energy = len(grouped_configs)\n",
    "    for entry in grouped_configs[:max_energy]:\n",
    "        single_list = []\n",
    "         \n",
    "        if len(entry)>1: \n",
    "            index = 0\n",
    "            for num in entry[:-1]:\n",
    "                index = index + 1\n",
    "                num = basis.state(num)\n",
    "                \n",
    "                for num2 in entry[index:]:\n",
    "                    \n",
    "                    num2 = basis.state(num2)\n",
    "                    diff = num - num2\n",
    "                    \n",
    "                    nonzero = np.nonzero(diff)[0]\n",
    "                    if nonzero.size > N/2:         #This is the piece that will throw out hamming distances greater than N/2\n",
    "                        continue\n",
    "                        \n",
    "                    else:\n",
    "                        substate1 = basis.index(num[nonzero])\n",
    "                        substate2 = basis.index(num2[nonzero])\n",
    "\n",
    "                        transformation = [nonzero, substate1, substate2]\n",
    "                        single_list.append(transformation)\n",
    "\n",
    "                        \n",
    "                    #single_list.append(transformation)\n",
    "        transformation_list.append(single_list)       \n",
    "        #a list with nonzero array, then the integers from the binary number formed by applying the nonzero array\n",
    "    return transformation_list\n"
   ]
  },
  {
   "cell_type": "code",
   "execution_count": 6,
   "metadata": {},
   "outputs": [],
   "source": [
    "transformations = (list_transformations(grouped_configs, 0, L[0]))"
   ]
  },
  {
   "cell_type": "code",
   "execution_count": 8,
   "metadata": {},
   "outputs": [],
   "source": [
    "def symmetry(transformation_list, grouped_configs, basis):\n",
    "    \"\"\"function takes in a list of all transformations grouped by energy level and grouped_configs and returns a\n",
    "    list of symmetries without duplicates\"\"\"\n",
    "    \n",
    "    symm_list = []\n",
    "    level_index = 0\n",
    "    for energy_level in transformation_list:\n",
    "        if len(energy_level) == 0:\n",
    "            continue\n",
    "        level_index = level_index + 1\n",
    "        transformation_index = -1\n",
    "        for transformation in energy_level:\n",
    "            transformation_index = transformation_index + 1\n",
    "            switched_index = transformation [0]\n",
    "            int1 = transformation[1]\n",
    "            int2 = transformation[2] #These are integers from the binary number taken out by switched_index\n",
    "            \n",
    "            is_a_symmetry = True\n",
    "            \n",
    "            for energy_level2 in grouped_configs[:]: #used to start at level_index I think\n",
    "                if  not is_a_symmetry: \n",
    "                    break\n",
    "                \n",
    "                for configuration in energy_level2:   #configuration is the integer\n",
    "                    binary = basis.state(configuration) #convert to binary\n",
    "                    switched = basis.index(binary[switched_index])  #convert flipped spins to integers like config1/2\n",
    "                    if switched == int1 or switched == int2:\n",
    "                        #now flip the spins in those spots and see if the new configuration is contained in\n",
    "                        for value in switched_index:\n",
    "                            binary[value] = (binary[value]-1)*-1\n",
    "                        binary = basis.index(binary)  #now, since we have done the transformation, if this value is not in the energy, we can throw out the symmetry\n",
    "                        if binary in energy_level2:\n",
    "                            break\n",
    "                        else:\n",
    "                            is_a_symmetry = False\n",
    "                            break \n",
    "                    else:\n",
    "                        continue\n",
    "            if is_a_symmetry:\n",
    "                repeat = False\n",
    "                for trans in symm_list:\n",
    "                        if np.array_equal(transformation[0], trans[0]) and transformation[1]==trans[1]:\n",
    "                            repeat = True\n",
    "                            break\n",
    "                if repeat == False:\n",
    "                    symm_list.append(transformation)\n",
    "                        \n",
    "    return symm_list"
   ]
  },
  {
   "cell_type": "code",
   "execution_count": 9,
   "metadata": {
    "scrolled": false
   },
   "outputs": [
    {
     "name": "stdout",
     "output_type": "stream",
     "text": [
      "[[array([3, 5, 6, 8]), 4, 11], [array([0, 1, 3, 8]), 0, 15], [array([0, 1, 5, 6]), 1, 14], [array([1, 2, 4, 7]), 2, 13], [array([0, 2, 4, 7]), 2, 13], [array([1, 2, 4, 7]), 1, 14], [array([0, 2, 4, 7]), 1, 14], [array([3, 5, 6, 8]), 7, 8], [array([0, 1, 5, 6]), 7, 8], [array([0, 1, 3, 8]), 6, 9]]\n"
     ]
    }
   ],
   "source": [
    "symmetries = symmetry(transformations, grouped_configs)"
   ]
  },
  {
   "cell_type": "code",
   "execution_count": 10,
   "metadata": {},
   "outputs": [],
   "source": [
    "def list_sorter(transformations, N):\n",
    "    '''Takes a list of transformations and sorts them by hamming distance\n",
    "    Returns a list of transformations sorted by hamming distance without any duplicates'''\n",
    "    sorted_list = []\n",
    "    for length in range(2, N):\n",
    "        if length%2 != 0:\n",
    "            one_length = []\n",
    "            for transformation in transformations:\n",
    "                array = transformation[0]\n",
    "                if array.size == length:\n",
    "                        one_length.append(transformation)\n",
    "                else:\n",
    "                    continue\n",
    "            sorted_list.append(one_length)\n",
    "        else:\n",
    "            one_length = []\n",
    "            for transformation in transformations:\n",
    "                array = transformation[0]\n",
    "                if array.size == length:\n",
    "                        one_length.append(transformation)\n",
    "                else:\n",
    "                    continue\n",
    "            sorted_list.append(one_length)\n",
    "    return sorted_list"
   ]
  },
  {
   "cell_type": "code",
   "execution_count": 11,
   "metadata": {
    "scrolled": true
   },
   "outputs": [
    {
     "name": "stdout",
     "output_type": "stream",
     "text": [
      "[[], [], [[array([3, 5, 6, 8]), 4, 11], [array([0, 1, 3, 8]), 0, 15], [array([0, 1, 5, 6]), 1, 14], [array([1, 2, 4, 7]), 2, 13], [array([0, 2, 4, 7]), 2, 13], [array([1, 2, 4, 7]), 1, 14], [array([0, 2, 4, 7]), 1, 14], [array([3, 5, 6, 8]), 7, 8], [array([0, 1, 5, 6]), 7, 8], [array([0, 1, 3, 8]), 6, 9]], [], [], [], []]\n"
     ]
    }
   ],
   "source": [
    "sorted_list = list_sorter(symmetries, L[0])\n"
   ]
  },
  {
   "cell_type": "code",
   "execution_count": 12,
   "metadata": {},
   "outputs": [],
   "source": [
    "def remove_combo(sorted_list):\n",
    "    '''Function removes transformations of Hamming distance 4 that are combinations of hamming distance 2 transformations\n",
    "    Eventually, I might modify it to remove combinations that are longer though that might not become a big enough issue\n",
    "    Input must be a list with Hamming distance 2 at index 0 and distance 4 at index 1'''\n",
    "    \n",
    "    length_2 = sorted_list[0]\n",
    "    length_4 = sorted_list[1]\n",
    "    transform_index = 0\n",
    "    for transformation in length_2:\n",
    "        transform_index += 1\n",
    "        array = transformation[0]\n",
    "        for transformation2 in length_2[transform_index:]:\n",
    "            array2 = transformation2[0]\n",
    "            if (array == array2).any() or array[0]==array2[1] or array[1]==array2[0]:\n",
    "                continue\n",
    "            else:\n",
    "                #print 't: ',transformation, ' t2: ', transformation2\n",
    "                combo = np.concatenate((array, array2))\n",
    "                sorted_indices = np.argsort(combo)\n",
    "                sorted_combo = combo[sorted_indices]\n",
    "                #print 'sort combo: ', sorted_combo\n",
    "    \n",
    "                for arr in transformation[1:]:\n",
    "            \n",
    "                    arr = basis.state(arr)[-2:]\n",
    "                    arr2 = basis.state(transformation2[1])[-2:]\n",
    "                    binary = np.concatenate((arr, arr2))\n",
    "                    sorted_indices = np.argsort(combo)\n",
    "                    binary = binary[sorted_indices]\n",
    "                    #print 'sorted binary: ', binary\n",
    "                    int1 = basis.index(binary)\n",
    "                    #print 'int1: ', int1\n",
    "                    \n",
    "                    t_combo_index = -1\n",
    "                    for t_combo in sorted_list[1]:\n",
    "                        t_combo_index += 1\n",
    "                        #print 't_combo: ',t_combo\n",
    "                        if (t_combo[0] == sorted_combo).all() and (int1==t_combo[1] or int1==t_combo[2]):\n",
    "                            del sorted_list[1][t_combo_index]\n",
    "                            break\n",
    "                        else:\n",
    "                            continue\n",
    "    return sorted_list          "
   ]
  },
  {
   "cell_type": "code",
   "execution_count": 13,
   "metadata": {},
   "outputs": [
    {
     "name": "stdout",
     "output_type": "stream",
     "text": [
      "[[], [], [[array([3, 5, 6, 8]), 4, 11], [array([0, 1, 3, 8]), 0, 15], [array([0, 1, 5, 6]), 1, 14], [array([1, 2, 4, 7]), 2, 13], [array([0, 2, 4, 7]), 2, 13], [array([1, 2, 4, 7]), 1, 14], [array([0, 2, 4, 7]), 1, 14], [array([3, 5, 6, 8]), 7, 8], [array([0, 1, 5, 6]), 7, 8], [array([0, 1, 3, 8]), 6, 9]], [], [], [], []]\n"
     ]
    }
   ],
   "source": [
    "no_combo = remove_combo(sorted_list)"
   ]
  },
  {
   "cell_type": "code",
   "execution_count": 15,
   "metadata": {},
   "outputs": [],
   "source": [
    "def symmetry_sorter(symmetries, sortedsym):\n",
    "    '''Sorts the symmetries I have found into swap, anti-swap, and other'''\n",
    "    swap_symmetries = []\n",
    "    anti_swap = []\n",
    "    other = []\n",
    "    \n",
    "    swap_sym = sortedsym[0]\n",
    "    anti_swap_sym = sortedsym[1]\n",
    "    \n",
    "    sorted_swap = []\n",
    "    sorted_antiswap = []\n",
    " \n",
    "    for tup in swap_sym:\n",
    "        tup = sorted(tup)\n",
    "        sorted_swap.append(tuple(tup))\n",
    "        \n",
    "    \n",
    "    for tup2 in anti_swap_sym:\n",
    "        tup2 = sorted(tup2)\n",
    "        sorted_antiswap.append(tuple(tup2))\n",
    "        \n",
    "    for length in symmetries:\n",
    "        for transformation in length:\n",
    "            array = tuple(transformation[0])\n",
    "            if array in sorted_swap:\n",
    "                swap_symmetries.append(transformation)\n",
    "            elif array in sorted_antiswap:\n",
    "                anti_swap.append(transformation)\n",
    "            else:\n",
    "                other.append(transformation)\n",
    "    if len(swap_symmetries) != 0:\n",
    "        print 'swap_symmetries: ', swap_symmetries\n",
    "    if len(swap_symmetries) != 0:\n",
    "        print 'anti_swap: ', anti_swap\n",
    "    if len(other) != 0:\n",
    "        print 'other: ', other\n",
    "    return swap_symmetries, anti_swap, other"
   ]
  },
  {
   "cell_type": "code",
   "execution_count": 14,
   "metadata": {},
   "outputs": [
    {
     "name": "stdout",
     "output_type": "stream",
     "text": [
      "([(0, 1, 3, 4, 6, 7), (0, 1, 4, 3, 6, 7)], [(0, 8, 1, 3), (1, 3, 7, 5, 6, 8), (1, 5, 7, 3, 6, 8)])\n"
     ]
    }
   ],
   "source": [
    "symmetries2 = symmetry_types.main(seed, L[0])"
   ]
  },
  {
   "cell_type": "code",
   "execution_count": 16,
   "metadata": {},
   "outputs": [
    {
     "name": "stdout",
     "output_type": "stream",
     "text": [
      "swap_symmetries:  []\n",
      "anti_swap:  [[array([0, 1, 3, 8]), 0, 15], [array([0, 1, 3, 8]), 6, 9]]\n",
      "other:  [[array([3, 5, 6, 8]), 4, 11], [array([0, 1, 5, 6]), 1, 14], [array([1, 2, 4, 7]), 2, 13], [array([0, 2, 4, 7]), 2, 13], [array([1, 2, 4, 7]), 1, 14], [array([0, 2, 4, 7]), 1, 14], [array([3, 5, 6, 8]), 7, 8], [array([0, 1, 5, 6]), 7, 8]]\n"
     ]
    }
   ],
   "source": [
    "symmetry_types = symmetry_sorter(no_combo, symmetries2)"
   ]
  },
  {
   "cell_type": "code",
   "execution_count": null,
   "metadata": {},
   "outputs": [],
   "source": []
  }
 ],
 "metadata": {
  "kernelspec": {
   "display_name": "Python 2",
   "language": "python",
   "name": "python2"
  },
  "language_info": {
   "codemirror_mode": {
    "name": "ipython",
    "version": 2
   },
   "file_extension": ".py",
   "mimetype": "text/x-python",
   "name": "python",
   "nbconvert_exporter": "python",
   "pygments_lexer": "ipython2",
   "version": "2.7.18"
  }
 },
 "nbformat": 4,
 "nbformat_minor": 4
}
